{
 "cells": [
  {
   "cell_type": "markdown",
   "metadata": {},
   "source": [
    "# Reading live camera data"
   ]
  },
  {
   "cell_type": "code",
   "execution_count": 3,
   "metadata": {},
   "outputs": [],
   "source": [
    "# Import the required modules\n",
    "import cv2\n",
    "import numpy as np\n",
    "from IPython.display import clear_output, display, Image\n",
    "import PIL.Image\n",
    "from io import BytesIO\n",
    "import ipywidgets as widgets\n",
    "\n",
    "def img2ByteArr(frame, ext='jpeg'):\n",
    "    byteObj = BytesIO()\n",
    "    PIL.Image.fromarray(frame).save(byteObj, ext)\n",
    "    return byteObj.getvalue()\n",
    "\n",
    "cam = cv2.VideoCapture(0) #Resolutions from camera- 1920x1080, 1280x720, 640x360\n",
    "cam.set(cv2.CAP_PROP_FRAME_WIDTH, 640)\n",
    "cam.set(cv2.CAP_PROP_FRAME_HEIGHT, 360)\n",
    "_, frame = cam.read()\n",
    "\n",
    "#Create Ipython image widget\n",
    "w=widgets.Image(value=img2ByteArr(frame));\n",
    "display(w)\n",
    "\n",
    "\n",
    "#print(widgets.height, widgets.width)\n",
    "\n",
    "for frame_number in range(100):\n",
    "    #Capture frame\n",
    "    _, frame = cam.read()\n",
    "    #print(frame.shape)\n",
    "    \n",
    "    #Perform operation\n",
    "    frame = cv2.cvtColor(frame, cv2.COLOR_BGR2RGB)\n",
    "    \n",
    "    #Display frame\n",
    "    w.value=img2ByteArr(frame)\n",
    "\n",
    "cam.release()\n",
    "clear_output()\n",
    "#print(frame.shape)\n"
   ]
  },
  {
   "cell_type": "code",
   "execution_count": null,
   "metadata": {},
   "outputs": [],
   "source": []
  }
 ],
 "metadata": {
  "kernelspec": {
   "display_name": "Python 3",
   "language": "python",
   "name": "python3"
  },
  "language_info": {
   "codemirror_mode": {
    "name": "ipython",
    "version": 3
   },
   "file_extension": ".py",
   "mimetype": "text/x-python",
   "name": "python",
   "nbconvert_exporter": "python",
   "pygments_lexer": "ipython3",
   "version": "3.5.6"
  }
 },
 "nbformat": 4,
 "nbformat_minor": 2
}
